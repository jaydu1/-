{
 "cells": [
  {
   "cell_type": "markdown",
   "metadata": {},
   "source": [
    "# Method"
   ]
  },
  {
   "cell_type": "markdown",
   "metadata": {},
   "source": [
    "The linear function should be like:\n",
    "$$y=mx+b$$\n",
    "We first intial $m$ and $b$, then calculate the SSE(Sum of Squares for Error):\n",
    "$$Error_{(m,b)}=\\dfrac{1}{N}\\sum\\limits_{n=1}^{N}[ y_i-(mx_i+b)]^2$$\n",
    "The partial derivates:\n",
    "$$\\dfrac{\\partial Error}{\\partial m}=-\\dfrac{2}{N} \\sum\\limits_{n=1}^N x_i[ y_i-(mx_i+b)]$$\n",
    "$$\\dfrac{\\partial Error}{\\partial b}=-\\dfrac{2}{N} \\sum\\limits_{n=1}^N [ y_i-(mx_i+b)]$$\n",
    "Using the Gradient Descent Mothed,\n",
    "$$m'=m-\\dfrac{\\partial Error}{\\partial m}\\times LearningRate$$\n",
    "$$b'=b-\\dfrac{\\partial Error}{\\partial b}\\times LearningRate$$\n",
    "$s.t.$\n",
    "$$Error_{m',b'}< Error_{m,b}$$\n",
    "Repeat above steps for $Num\\_Iterations$ times."
   ]
  },
  {
   "cell_type": "markdown",
   "metadata": {},
   "source": [
    "# Programming"
   ]
  },
  {
   "cell_type": "markdown",
   "metadata": {},
   "source": [
    "## Initialization"
   ]
  },
  {
   "cell_type": "code",
   "execution_count": 4,
   "metadata": {
    "collapsed": false
   },
   "outputs": [],
   "source": [
    "import numpy as np\n",
    "\n",
    "\n",
    "# 超参数hyperparameters\n",
    "learning_rate=0.0001\n",
    "initial_b=0\n",
    "initial_m=0\n",
    "num_iterations=1000"
   ]
  },
  {
   "cell_type": "markdown",
   "metadata": {},
   "source": [
    "## GD for linear regression"
   ]
  },
  {
   "cell_type": "code",
   "execution_count": 24,
   "metadata": {
    "collapsed": true
   },
   "outputs": [],
   "source": [
    "def gradient_descent_runner(points,starting_b,starting_m,learningRate,iterations):\n",
    "    b=starting_b\n",
    "    m=starting_m\n",
    "    for i in range(iterations):\n",
    "        b,m=step_gradient(b,m,array(points),learningRate)\n",
    "    return [b,m]"
   ]
  },
  {
   "cell_type": "code",
   "execution_count": 27,
   "metadata": {
    "collapsed": true
   },
   "outputs": [],
   "source": [
    "def step_gradient(b_current,m_current,points,learningRate):\n",
    "    b_gradient=0\n",
    "    m_gradient=0\n",
    "    N=float(len(points))\n",
    "    for i in range(len(points)):\n",
    "        x=points[i,0]\n",
    "        y=points[i,1]\n",
    "        b_gradient+=-(2/N)*(y-((m_current*x)+b_current))\n",
    "        m_gradient+=-(2/N)*x*(y-((m_current*x)+b_current))\n",
    "    new_b=b_current-(learningRate*b_gradient)\n",
    "    new_m=m_current-(learningRate*m_gradient)\n",
    "    return [new_b,new_m]"
   ]
  },
  {
   "cell_type": "markdown",
   "metadata": {},
   "source": [
    "## Error function"
   ]
  },
  {
   "cell_type": "code",
   "execution_count": 7,
   "metadata": {
    "collapsed": true
   },
   "outputs": [],
   "source": [
    "def compute_error_value(b,m,points):\n",
    "    total_error=0\n",
    "    for i in range(len(points)):\n",
    "        x=points[i,0]\n",
    "        y=points[i,1]\n",
    "        total_error+=(y-(m*x+b))**2\n",
    "    return total_error/ float(len(points))"
   ]
  },
  {
   "cell_type": "markdown",
   "metadata": {},
   "source": [
    "## Main"
   ]
  },
  {
   "cell_type": "code",
   "execution_count": 31,
   "metadata": {
    "collapsed": false
   },
   "outputs": [
    {
     "name": "stdout",
     "output_type": "stream",
     "text": [
      "0.607898599705\n",
      "1.46754404363\n",
      "112.315334271\n"
     ]
    }
   ],
   "source": [
    "points=np.genfromtxt('linear_regression_data.csv',delimiter=',')\n",
    "[b,m]=gradient_descent_runner(points,initial_b,initial_m,learning_rate,num_iterations*10)\n",
    "print(b)\n",
    "print(m)\n",
    "error=compute_error_value(b,m,points)\n",
    "print(error)"
   ]
  },
  {
   "cell_type": "markdown",
   "metadata": {},
   "source": [
    "## Visualization"
   ]
  },
  {
   "cell_type": "code",
   "execution_count": 51,
   "metadata": {
    "collapsed": false
   },
   "outputs": [
    {
     "data": {
      "image/png": "[encoded data removed]",
      "text/plain": [
       "<matplotlib.figure.Figure at 0x1108f1390>"
      ]
     },
     "metadata": {},
     "output_type": "display_data"
    }
   ],
   "source": [
    "from matplotlib import pyplot as plt\n",
    "fig=plt.figure(figsize=(8,8))\n",
    "ax=fig.add_subplot(111)\n",
    "ax.plot(points[:,0],points[:,1],'o')\n",
    "x=np.linspace(np.min(points[:,0]),np.max(points[:,0]),1000)\n",
    "ax.plot(x,b+x*m)\n",
    "plt.show()"
   ]
  }
 ],
 "metadata": {
  "kernelspec": {
   "display_name": "Python 3",
   "language": "python",
   "name": "python3"
  },
  "language_info": {
   "codemirror_mode": {
    "name": "ipython",
    "version": 3
   },
   "file_extension": ".py",
   "mimetype": "text/x-python",
   "name": "python",
   "nbconvert_exporter": "python",
   "pygments_lexer": "ipython3",
   "version": "3.6.0"
  }
 },
 "nbformat": 4,
 "nbformat_minor": 2
}
