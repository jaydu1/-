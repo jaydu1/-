{
 "cells": [
  {
   "cell_type": "markdown",
   "metadata": {},
   "source": [
    "# ID3"
   ]
  },
  {
   "cell_type": "markdown",
   "metadata": {},
   "source": [
    "# 1.算法原理"
   ]
  },
  {
   "cell_type": "markdown",
   "metadata": {},
   "source": [
    "通过递归，遍历每个特征，按该特征的各个特征值进行划分，计算其划分优化指数——熵（或信息增益）。然后选择熵最小（或信息增益最大）的特征，作为划分特征。该特征下的每个特征值生长出一棵子树，在每棵子树熵重复上述过程（但不选择已选特征），当满足某些条件时停止生长，子树化为叶结点，最终得到一棵完整的决策树。\n",
    "\n",
    "停止生长条件如下：\n",
    "\n",
    "（1）当没有新的特征可以选择且子树数据标签仍不是同类时，该子树化为叶结点，以其数据标签中数量最多的作为标签；\n",
    "\n",
    "（2）当子树中没有数据时（这种情况发生在该子树父结点按该特征划分时，没有满足该特征值的数据），该子树化为叶结点，以其数据标签中数量最多的作为标签；\n",
    "\n",
    "（3）当子树中的数据标签都属于同一类时，该子树化为叶结点，以该数据标签作为标签。"
   ]
  },
  {
   "cell_type": "markdown",
   "metadata": {},
   "source": [
    "# 2.算法流程"
   ]
  },
  {
   "cell_type": "markdown",
   "metadata": {},
   "source": [
    "## （1）决策树主函数"
   ]
  },
  {
   "cell_type": "markdown",
   "metadata": {},
   "source": [
    "按照ID3算法规则，递归调⽤，⽣长出决策树的各个分⽀节点，并根据终⽌条件结束算法。"
   ]
  },
  {
   "cell_type": "markdown",
   "metadata": {},
   "source": [
    "#### a.输入需要分类的数据集和类别标签。"
   ]
  },
  {
   "cell_type": "markdown",
   "metadata": {},
   "source": [
    "#### b.挑选最佳特征指标，判定最优划分特征。"
   ]
  },
  {
   "cell_type": "markdown",
   "metadata": {},
   "source": [
    "数据集合为$S$。"
   ]
  },
  {
   "cell_type": "markdown",
   "metadata": {},
   "source": [
    "#### 熵（Entropy）："
   ]
  },
  {
   "cell_type": "markdown",
   "metadata": {},
   "source": [
    "在信息论中，若信源事件有$n$种取值：$U_1$，$\\cdots$，$U_n$，对应于概率$p_1$，$\\cdots$，$p_n$，且各事件彼此独立。$p$为取值为上述概率值的随机变量。则信源的信息熵为：$$Entropy(S)=E\\left(\\log\\frac{1}{p}\\right)=-\\sum\\limits_{i=1}^n p_i\\log p_i$$上式中对数一般取2为底，即信息单位比特（bit）。\n",
    "\n",
    "· 利用信息熵度量类别标签样本对样本整体的不确定性。设$S$是$s$个样本的集合，某个类别标签有$m$个不同类别$C_i$（$i=1,\\cdots,m$）。设$S_i$是$C_i$中的样本集，则按该样本分类的信息熵为：$$Entropy(S_1,S_2,\\cdots,S_m)=-\\sum\\limits_{i=1}^m p_i\\log_2 p_i$$其中$p_i=\\frac{|S_i|}{|S|}$是任意样本属于$C_i$的概率估计。\n",
    "\n",
    "· 利用信息熵度量每种特征不同取值的不确定性。设特征$A$具有$N$个特征值$\\{a_1,\\cdots,a_N\\}$，根据特征$A$划分的子集为$\\{S^{1},\\cdots,S^{N}\\}$。设$S_i^j$是$C_i$类中特征$A$取值为$a_j$的样本集，则按$A$划分的信息熵为：$$Entropy(A)=\\sum\\limits_{j=1}^N\\frac{|S_1^j|+|S_2^j|\\cdots+|S_m^j|}{|S|}\\cdot Entropy(S_1^j,S_2^j,\\cdots,S_m^j)$$"
   ]
  },
  {
   "cell_type": "markdown",
   "metadata": {},
   "source": [
    "#### 信息增益（Information Gain）："
   ]
  },
  {
   "cell_type": "markdown",
   "metadata": {},
   "source": [
    "信息增益是决策树上某分支整个数据集信息与当前节点信息熵的差值：$$IG(A)=Entropy(S_1,S_2,\\cdots,S_m)-Entropy(A)$$"
   ]
  },
  {
   "cell_type": "markdown",
   "metadata": {},
   "source": [
    "#### c.根据最优划分特征将数据集划分为多个子集。"
   ]
  },
  {
   "cell_type": "markdown",
   "metadata": {},
   "source": [
    "#### d.每个子集作为树的子节点，生长出多个分支。"
   ]
  },
  {
   "cell_type": "markdown",
   "metadata": {},
   "source": [
    "#### e.检验是否满足递归终止条件"
   ]
  },
  {
   "cell_type": "markdown",
   "metadata": {},
   "source": [
    "#### f.将划分的各个新节点包含的数据集和类别标签作为输入，递归执行上述步骤"
   ]
  },
  {
   "cell_type": "markdown",
   "metadata": {},
   "source": [
    "## （2）使用熵（或信息增益）计算数据集各特征列的最优划分列、划分值"
   ]
  },
  {
   "cell_type": "markdown",
   "metadata": {},
   "source": [
    "## （3）根据最优特征的特征值生长出多个子树"
   ]
  },
  {
   "cell_type": "markdown",
   "metadata": {},
   "source": [
    "# 3.代码实例"
   ]
  },
  {
   "cell_type": "markdown",
   "metadata": {},
   "source": [
    "（1）ID3_Tree类"
   ]
  },
  {
   "cell_type": "code",
   "execution_count": 2,
   "metadata": {
    "collapsed": true
   },
   "outputs": [],
   "source": [
    "from numpy import *\n",
    "import math\n",
    "import copy\n",
    "import cPickle as pickle\n",
    "\n",
    "class ID3_Tree(object):\n",
    "    def __init__(self):\n",
    "        self.tree={}\n",
    "        self.DataSet=[]\n",
    "        self.labels=[]\n",
    "        \n",
    "    def loadDataSet(self,path,labels):\n",
    "        recordlist=[]\n",
    "        fp=open(path,\"rb\")\n",
    "        content=fp.read()\n",
    "        fp.close()\n",
    "        rowlist=content.splitlines()\n",
    "        recordlist=[row.split(\"\\t\"\n",
    "                    ) for row in rowlist if row.strip()]\n",
    "        self.DataSet=recordlist\n",
    "        self.labels=labels\n",
    "        \n",
    "    def train(self):\n",
    "        labels=copy.deepcopy(self.labels)\n",
    "        self.tree=self.buildTree(self.DataSet,labels)\n",
    "        \n",
    "    def buildTree(self,DataSet,labels):\n",
    "        # 抽取决策标签\n",
    "        List=[data[-1] for data in DataSet] \n",
    "        # 若决策标签只有一种\n",
    "        if List.count(List[0])==len(List):\n",
    "            return List[0]\n",
    "        # 若第一个标签的数据只有一个\n",
    "        if len(DataSet[0])==1:\n",
    "            return self.Max(List)\n",
    "        \n",
    "        BestFeature=self.getBestFeature(DataSet)\n",
    "        BestFeatureLabels=labels[BestFeature]\n",
    "        tree={BestFeatureLabels:{}}\n",
    "        del(labels[BestFeature])\n",
    "        \n",
    "        UniqueValue=set(\n",
    "            [data[BestFeature] for data in DataSet])\n",
    "        for value in UniqueValue:\n",
    "            SubLabels=labels[:]\n",
    "            SplitDataSet=self.splitDataSet(\n",
    "                DataSet,BestFeature,value)\n",
    "            SubTree=self.buildTree(\n",
    "                SplitDataSet,SubLabels)\n",
    "            tree[BestFeatureLabels][value]=SubTree\n",
    "        return tree\n",
    "        \n",
    "    def Max(self,List):\n",
    "        items=dict([(List.count(i),i) for i in List])\n",
    "        return items[max(items.keys())]\n",
    "    \n",
    "    def getBestFeature(self,DataSet):\n",
    "        NumFeatures=len(DataSet[0])-1\n",
    "        BaseEntropy=self.computeEntropy(DataSet)\n",
    "        BestInfoGain=0.0\n",
    "        BestFeature=-1;\n",
    "        \n",
    "        for i in xrange(NumFeatures):\n",
    "            UniqueValues=set(\n",
    "                [data[i] for data in DataSet])\n",
    "            NewEntropy=0.0\n",
    "            for value in UniqueValues:\n",
    "                SubDataSet=self.splitDataSet(\n",
    "                    DataSet,i,value)\n",
    "                prob=len(SubDataSet)/float(\n",
    "                    len(DataSet))\n",
    "                NewEntropy+=prob*self.computeEntropy(\n",
    "                    SubDataSet)\n",
    "            InfoGain=BaseEntropy-NewEntropy\n",
    "            if InfoGain>BestInfoGain:\n",
    "                BestInfoGain=InfoGain\n",
    "                BestFeature=i\n",
    "        return BestFeature\n",
    "    \n",
    "    def computeEntropy(self,DataSet):\n",
    "        datalen=float(len(DataSet))\n",
    "        List=[data[-1] for data in DataSet]\n",
    "        \n",
    "        items=dict([(i,List.count(i)) for i in List])\n",
    "        InfoEntropy=0.0\n",
    "        for key in items:\n",
    "            prob=float(items[key])/datalen\n",
    "            InfoEntropy-=prob*math.log(prob,2)\n",
    "        return InfoEntropy\n",
    "    \n",
    "    def splitDataSet(self,DataSet,axis,value):\n",
    "        List=[]\n",
    "        for FeatureVector in DataSet:\n",
    "            if FeatureVector[axis]==value:\n",
    "                RestFeatureVector=FeatureVector[:axis]\n",
    "                RestFeatureVector.extend(\n",
    "                    FeatureVector[axis+1:])\n",
    "                List.append(RestFeatureVector)\n",
    "        return List\n",
    "        \n",
    "    # 保存，读取决策树\n",
    "    def saveTree(self,inputTree,filename):\n",
    "        f=open(filename,\"w\")\n",
    "        pickle.dump(inputTree,f)\n",
    "        f.close()\n",
    "        \n",
    "    def getTree(self,filename):\n",
    "        f=open(filename)\n",
    "        return pickle.load(f)\n",
    "        \n",
    "    # 分类器\n",
    "    def predict(self,inputTree,labels,testVector):\n",
    "        root=inputTree.keys()[0]\n",
    "        secondDict=inputTree[root]\n",
    "        Index=labels.index(root)\n",
    "        key=testVector[Index]\n",
    "        value=secondDict[key]\n",
    "        if isinstance(value,dict):\n",
    "            classLabel=self.predict(\n",
    "                value,labels,testVector)\n",
    "        else:\n",
    "            classLabel=value\n",
    "        return classLabel"
   ]
  },
  {
   "cell_type": "markdown",
   "metadata": {},
   "source": [
    "（2）主函数"
   ]
  },
  {
   "cell_type": "code",
   "execution_count": 8,
   "metadata": {
    "collapsed": false
   },
   "outputs": [
    {
     "name": "stdout",
     "output_type": "stream",
     "text": [
      "The Decision Tree by ID3:\n",
      "{'age': {'1': 'yes', '0': {'student': {'1': 'yes', '0': 'no'}}, '2': {'credit': {'1': 'no', '0': 'yes'}}}} \n",
      "\n",
      "predict: no \n",
      "\n",
      "Tree Plot:\n",
      "\n"
     ]
    },
    {
     "data": {
      "image/png": "[encoded data removed]",
      "text/plain": [
       "<matplotlib.figure.Figure at 0x10e709790>"
      ]
     },
     "metadata": {},
     "output_type": "display_data"
    }
   ],
   "source": [
    "labels=[\"age\",\"reveue\",\"student\",\"credit\"]\n",
    "dtree=ID3_Tree()\n",
    "dtree.loadDataSet(\"dataset.dat\",labels)\n",
    "dtree.train()\n",
    "print \"The Decision Tree by ID3:\"\n",
    "print dtree.tree,\"\\n\"\n",
    "\n",
    "vector=['0','1','0','0']\n",
    "print \"predict:\"\n",
    "print dtree.predict(dtree.tree,labels,vector),\"\\n\"\n",
    "\n",
    "import treePlotter as tp\n",
    "print \"Tree Plot:\\n\"\n",
    "tp.createPlot(dtree.tree)"
   ]
  }
 ],
 "metadata": {
  "kernelspec": {
   "display_name": "Python 3",
   "language": "python",
   "name": "python3"
  },
  "language_info": {
   "codemirror_mode": {
    "name": "ipython",
    "version": 3
   },
   "file_extension": ".py",
   "mimetype": "text/x-python",
   "name": "python",
   "nbconvert_exporter": "python",
   "pygments_lexer": "ipython3",
   "version": "3.6.0"
  }
 },
 "nbformat": 4,
 "nbformat_minor": 2
}
