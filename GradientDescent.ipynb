{
 "cells": [
  {
   "cell_type": "markdown",
   "metadata": {},
   "source": [
    "# 梯度下降法"
   ]
  },
  {
   "cell_type": "markdown",
   "metadata": {},
   "source": [
    "# 一.算法原理"
   ]
  },
  {
   "cell_type": "markdown",
   "metadata": {},
   "source": [
    "梯度下降法（Gradient Descent Method）是一种属于求解最优化问题的算法，是求解无约束多元函数极值的数值算法。例如，在数值计算的迭代法中，若迭代能够收敛（即误差能够收敛于0）时，误差向负梯度方向变化的收敛速度最快。"
   ]
  },
  {
   "cell_type": "markdown",
   "metadata": {},
   "source": [
    "## 1.凸集与凸函数"
   ]
  },
  {
   "cell_type": "markdown",
   "metadata": {},
   "source": [
    "### （1）凸集：$\\forall \\alpha\\in [0,1],\\forall x_1,x_2\\in X\\subset R^n,\\quad\\alpha x_1+(1-\\alpha) x_2\\in X$"
   ]
  },
  {
   "cell_type": "markdown",
   "metadata": {},
   "source": [
    "#### 超平面："
   ]
  },
  {
   "cell_type": "markdown",
   "metadata": {},
   "source": [
    "$$\\{x\\in X|c^Tx=b\\}$$\n",
    "其中$c\\in R^n,b\\in R$.超平面将凸集分为两部分。同样$R^n$也有超平面，且每个超平面属于$R^{n-1}$。"
   ]
  },
  {
   "cell_type": "markdown",
   "metadata": {},
   "source": [
    "#### 支撑超平面："
   ]
  },
  {
   "cell_type": "markdown",
   "metadata": {},
   "source": [
    "$$\\{x\\in X|c^Tw=b,w\\in \\partial(X), c^Tx\\leqslant b(\\forall x\\in X)\\}$$\n",
    "或$$\\{x\\in X|c^Tw=b,w\\in \\partial(X), c^Tx\\geqslant b( \\forall x\\in X)\\}$$凸集中所有点都位于该超平面及其一侧。"
   ]
  },
  {
   "cell_type": "markdown",
   "metadata": {},
   "source": [
    "#### 凸集分离定理："
   ]
  },
  {
   "cell_type": "markdown",
   "metadata": {},
   "source": [
    "若$X_1,X_2$为凸集且$X_1\\cap X_2=\\varnothing$，则存在$p\\in R^n,p\\neq 0$及$q\\in R$，确定超平面$H=\\{x\\in R^n|p^Tx=q\\}$，使得$$X_1\\subset H^-= \\{x\\in R^n|p^Tx\\leqslant q\\}$$\n",
    "$$X_2\\subset H^+= \\{x\\in R^n|p^Tx\\geqslant q\\}$$"
   ]
  },
  {
   "cell_type": "markdown",
   "metadata": {},
   "source": [
    "### （2）凸函数"
   ]
  },
  {
   "cell_type": "markdown",
   "metadata": {},
   "source": [
    "凸函数具有很多很好的性质：\n",
    "\n",
    "a.任一局部极小（大）值也是全局极小（大）值，且全体极小（大）值之集为凸集；\n",
    "\n",
    "b.任一局部最优解（满意解）都是整体最优解（最优解）。\n",
    "* 凸函数有不同定义，这里的凸函数特指下凸函数"
   ]
  },
  {
   "cell_type": "markdown",
   "metadata": {},
   "source": [
    "## 2.梯度下降"
   ]
  },
  {
   "cell_type": "markdown",
   "metadata": {},
   "source": [
    "函数$f(x)$的梯度定义为：$$\\nabla f(x)=\\left(\\begin{matrix}\n",
    "\\frac{\\partial f}{\\partial x_1}\\\\\n",
    "\\cdot\\\\\n",
    "\\cdot\\\\\n",
    "\\cdot\\\\\n",
    "\\frac{\\partial f}{\\partial x_n}\n",
    "\\end{matrix}\\right)$$\n",
    "其中$x=(x_1,\\cdots,x_n)^T\\in R^n$。\n",
    "易知，若$f(x)$为凸函数时，随机从某点出发，利用迭代法求$f(x)$最大(小)值，则向梯度（负梯度）方向迭代最快收敛。\n",
    "\n",
    "梯度是一个向量，为我们提供了函数值变化的方向和强度，我们还可以为其指定迭代步长的倍数。迭代步长同样会影响算法的收敛性及收敛速度。"
   ]
  },
  {
   "cell_type": "markdown",
   "metadata": {},
   "source": [
    "## 3.线性分类器"
   ]
  },
  {
   "cell_type": "markdown",
   "metadata": {},
   "source": [
    "线性分类器先应用公式$$f(x)=w^T x+b\\qquad w\\in R^n$$或$$f(X)=w^TX\\qquad\\quad w\\in R^{n+1}$$（其中$w,b$待定，$x=(x_1,\\cdots,x_n)^T,X=(1,x_1,\\cdots,x_n)^T$）将高维样本点$x\\in R^n$映射到$R$,再通过激活函数根据$f(x)$的值进行分类。\n",
    "\n",
    "激活函数是先选定的，本文使用了最早出现的硬限制函数和$Logistic$函数。\n",
    "\n",
    "在给定训练集的情况下，即$x$已知时，$f(X)$化为$$g(w)=w^TX$$线性分类器训练的过程其实就是确定函数$g(w)$分类最优时（分类误差函数$error(w)$最小时）对应的参数$w$：$$\\arg\\min\\limits_{w}error(w)$$而迭代过程所用到算法就是梯度下降法，其梯度即为分类器对训练集的分类误差（元素为1，0，-1的向量）。"
   ]
  },
  {
   "cell_type": "markdown",
   "metadata": {},
   "source": [
    "# 二.算法流程"
   ]
  },
  {
   "cell_type": "markdown",
   "metadata": {
    "collapsed": true
   },
   "source": [
    "## 1.导入数据"
   ]
  },
  {
   "cell_type": "code",
   "execution_count": 1,
   "metadata": {
    "collapsed": true
   },
   "outputs": [],
   "source": [
    "from numpy import *\n",
    "\n",
    "# 数据文件转矩阵\n",
    "# path: 数据文件路径\n",
    "# delimiter: 文件分隔符\n",
    "def file2matrix(path,delimiter):\t\n",
    "\trecordlist = []\n",
    "\tfp = open(path,\"rb\") \t# 读取文件内容\n",
    "\tcontent = fp.read()\n",
    "\tfp.close()\n",
    "\trowlist = content.splitlines() \t# 按行转换为一维表\n",
    "\t# 逐行遍历 \t\t# 结果按分隔符分割为行向量\n",
    "\trecordlist=[map(eval, row.split(delimiter)) for row in rowlist if row.strip()]\t\n",
    "\treturn mat(recordlist)\t# 返回转换后的矩阵形式\n",
    "    \n",
    "Input=file2matrix(\"testSet.txt\",\"\\t\")\n",
    "target=Input[:,-1]\n",
    "[m,n]=shape(Input)"
   ]
  },
  {
   "cell_type": "markdown",
   "metadata": {},
   "source": [
    "导入数据部分结果如下："
   ]
  },
  {
   "cell_type": "code",
   "execution_count": 4,
   "metadata": {
    "collapsed": false
   },
   "outputs": [
    {
     "data": {
      "text/plain": [
       "matrix([[ -1.395634,  -4.662541,   1.      ],\n",
       "        [ -0.752157,  -6.53862 ,   0.      ],\n",
       "        [ -1.322371,  -7.152853,   0.      ],\n",
       "        [  0.423363, -11.054677,   0.      ],\n",
       "        [  0.406704,  -7.067335,   1.      ]])"
      ]
     },
     "execution_count": 4,
     "metadata": {},
     "output_type": "execute_result"
    }
   ],
   "source": [
    "Input[1:6,:]"
   ]
  },
  {
   "cell_type": "markdown",
   "metadata": {},
   "source": [
    "## 2.按分类绘制散点图"
   ]
  },
  {
   "cell_type": "code",
   "execution_count": 17,
   "metadata": {
    "collapsed": false
   },
   "outputs": [
    {
     "data": {
      "image/png": "[encoded data removed]",
      "text/plain": [
       "<matplotlib.figure.Figure at 0x110243f50>"
      ]
     },
     "metadata": {},
     "output_type": "display_data"
    }
   ],
   "source": [
    "import matplotlib.pyplot as plt \n",
    "\n",
    "def drawScatter(plt,Input):\n",
    "    m,n=shape(Input)\n",
    "    target=Input[:,-1]\n",
    "    for i in xrange(m):\n",
    "        if target[i]==0:\n",
    "            plt.scatter(Input[i,0],Input[i,1],c='blue',marker='o')\n",
    "        else:\n",
    "            plt.scatter(Input[i,0],Input[i,1],c='red',marker='s')\n",
    "            \n",
    "plt.figure()\n",
    "drawScatter(plt,Input)\n",
    "plt.show()"
   ]
  },
  {
   "cell_type": "markdown",
   "metadata": {},
   "source": [
    "## 3.构建输入矩阵"
   ]
  },
  {
   "cell_type": "markdown",
   "metadata": {},
   "source": [
    "输入矩阵的第一列为预测列$b$,且不带原标签列。初始化时可取$b$中元素全为$1$。"
   ]
  },
  {
   "cell_type": "code",
   "execution_count": 22,
   "metadata": {
    "collapsed": true
   },
   "outputs": [],
   "source": [
    "def buildMat(dataSet):\n",
    "    m,n=shape(dataSet)\n",
    "    dataMat=zeros((m,n))\n",
    "    dataMat[:,0]=1\n",
    "    dataMat[:,1:]=dataSet[:,:-1]\n",
    "    return dataMat\n",
    "          \n",
    "dataMat=buildMat(Input)"
   ]
  },
  {
   "cell_type": "markdown",
   "metadata": {},
   "source": [
    "输入矩阵的部分数据如下："
   ]
  },
  {
   "cell_type": "code",
   "execution_count": 24,
   "metadata": {
    "collapsed": false
   },
   "outputs": [
    {
     "data": {
      "text/plain": [
       "array([[  1.      ,  -1.395634,  -4.662541],\n",
       "       [  1.      ,  -0.752157,  -6.53862 ],\n",
       "       [  1.      ,  -1.322371,  -7.152853],\n",
       "       [  1.      ,   0.423363, -11.054677],\n",
       "       [  1.      ,   0.406704,  -7.067335]])"
      ]
     },
     "execution_count": 24,
     "metadata": {},
     "output_type": "execute_result"
    }
   ],
   "source": [
    "dataMat[1:6,:]"
   ]
  },
  {
   "cell_type": "markdown",
   "metadata": {},
   "source": [
    "## 4.定义步长和迭代次数，并初始化权重向量"
   ]
  },
  {
   "cell_type": "code",
   "execution_count": 60,
   "metadata": {
    "collapsed": true
   },
   "outputs": [],
   "source": [
    "alpha=0.001\n",
    "steps=500\n",
    "weights1=ones((n,1))\n",
    "weights2=ones((n,1))"
   ]
  },
  {
   "cell_type": "markdown",
   "metadata": {},
   "source": [
    "## 5.主程序：激活函数迭代过程"
   ]
  },
  {
   "cell_type": "markdown",
   "metadata": {},
   "source": [
    "### （1）硬限幅（$hard\\ limiting/hard\\ threshold$）函数"
   ]
  },
  {
   "cell_type": "markdown",
   "metadata": {},
   "source": [
    "较简单的硬限幅函数：$$f(x)=\\begin{cases}\n",
    "0,&x<0\\\\\n",
    "1,&x \\geqslant 0\n",
    "\\end{cases}$$"
   ]
  },
  {
   "cell_type": "code",
   "execution_count": 51,
   "metadata": {
    "collapsed": false
   },
   "outputs": [],
   "source": [
    "def hardlim(dataSet):\n",
    "    dataSet[nonzero(dataSet.A>0)[0]]=1\n",
    "    dataSet[nonzero(dataSet.A<=0)[0]]=0\n",
    "    return dataSet\n",
    "\n",
    "for k in xrange(steps):\n",
    "    gradient=dataMat*mat(weights1)           # 梯度\n",
    "    output=hardlim(gradient)                 # 调用硬限幅函数判断\n",
    "    errors=target-output                     # 计算误差\n",
    "    weights1=weights1+alpha*dataMat.T*errors # 修正线性系数"
   ]
  },
  {
   "cell_type": "markdown",
   "metadata": {},
   "source": [
    "### （2）$Logistic$函数"
   ]
  },
  {
   "cell_type": "markdown",
   "metadata": {},
   "source": [
    "上述分段函数在零点附近从0突变为1，没有过渡状态，目标函数容易发生震荡，实践中经常用0~1之间的概率输出，以提供平缓的分类决策边界。$$Logistic(X)=\\frac{1}{1+e^{-w^TX}}$$当$X$某一分量从$-\\infty$变化到$+\\infty$时，该分量对应的取值从0渐变到1，$Logistic$函数为偶函数且$Logistic(0)=\\frac{1}{2}$，因此对二分类问题的预测，可以通过比较预测样本的分类器预测值和$\\frac{1}{2}$的大小来进行分类。"
   ]
  },
  {
   "cell_type": "code",
   "execution_count": 34,
   "metadata": {
    "collapsed": true
   },
   "outputs": [],
   "source": [
    "def logistic(x):\n",
    "    return 1.0/(1.0+exp(-x))\n",
    "    \n",
    "for k in xrange(steps):\n",
    "    gradient=dataMat*mat(weights2)           # 梯度\n",
    "    output=logistic(gradient)                # 调用Logistic函数判断\n",
    "    errors=target-output                     # 计算误差\n",
    "    weights2=weights2+alpha*dataMat.T*errors # 修正线性系数"
   ]
  },
  {
   "cell_type": "markdown",
   "metadata": {},
   "source": [
    "## 6.绘制分类超平面"
   ]
  },
  {
   "cell_type": "markdown",
   "metadata": {},
   "source": [
    "设$w=(w_0,\\cdots,w_n)^T$，则超平面为$$w^TX=w_0+w_1x_1+\\cdots+w_nx_n=0$$\n",
    "当$w_n\\neq 0$时，$$x_n=\\frac{w_0+w_1x_1+\\cdots+w_nx_n}{w_n}$$\n",
    "特别地，$n=2$时，$$x_2=\\frac{w_0+w_1x_1}{w_2}$$因此可绘制如下分类图（纵坐标为$x_2$，横坐标为$x_1$）："
   ]
  },
  {
   "cell_type": "markdown",
   "metadata": {},
   "source": [
    "### （1）硬限幅函数训练集分类效果"
   ]
  },
  {
   "cell_type": "code",
   "execution_count": 33,
   "metadata": {
    "collapsed": false
   },
   "outputs": [
    {
     "data": {
      "image/png": "[encoded data removed]",
      "text/plain": [
       "<matplotlib.figure.Figure at 0x11066bf10>"
      ]
     },
     "metadata": {},
     "output_type": "display_data"
    }
   ],
   "source": [
    "X=linspace(-5,5,100)\n",
    "Y=-(double(weights1[0])+X*(double(weights1[1])))/double(weights1[2])\n",
    "drawScatter(plt,Input)\n",
    "plt.plot(X,Y)\n",
    "plt.show()"
   ]
  },
  {
   "cell_type": "markdown",
   "metadata": {},
   "source": [
    "### （2）$Logistic$函数训练集分类效果"
   ]
  },
  {
   "cell_type": "code",
   "execution_count": 37,
   "metadata": {
    "collapsed": false
   },
   "outputs": [
    {
     "data": {
      "image/png": "[encoded data removed]",
      "text/plain": [
       "<matplotlib.figure.Figure at 0x11014cb50>"
      ]
     },
     "metadata": {},
     "output_type": "display_data"
    }
   ],
   "source": [
    "plt.figure()\n",
    "drawScatter(plt,Input)\n",
    "X=linspace(-5,5,100)\n",
    "Y=-(double(weights2[0])+X*(double(weights2[1])))/double(weights2[2])\n",
    "plt.plot(X,Y)\n",
    "plt.show()"
   ]
  },
  {
   "cell_type": "markdown",
   "metadata": {},
   "source": [
    "## 7.对测试集进行分类"
   ]
  },
  {
   "cell_type": "code",
   "execution_count": 40,
   "metadata": {
    "collapsed": true
   },
   "outputs": [],
   "source": [
    "testdata=mat([-0.147324,2.874846])\n",
    "test=zeros((1,3))\n",
    "test[:,0]=1\n",
    "test[:,1:]=testdata"
   ]
  },
  {
   "cell_type": "markdown",
   "metadata": {},
   "source": [
    "### （1）硬限幅函数测试集分类"
   ]
  },
  {
   "cell_type": "code",
   "execution_count": 57,
   "metadata": {
    "collapsed": false
   },
   "outputs": [
    {
     "data": {
      "text/plain": [
       "1.0"
      ]
     },
     "execution_count": 57,
     "metadata": {},
     "output_type": "execute_result"
    }
   ],
   "source": [
    "def classifier1(testData,weights):\n",
    "    return hardlim(testData*weights).A[0][0]\n",
    "\n",
    "classifier1(test,weights1)"
   ]
  },
  {
   "cell_type": "markdown",
   "metadata": {},
   "source": [
    "### （2）$Logistic$函数测试集分类"
   ]
  },
  {
   "cell_type": "code",
   "execution_count": 42,
   "metadata": {
    "collapsed": false
   },
   "outputs": [
    {
     "data": {
      "text/plain": [
       "1.0"
      ]
     },
     "execution_count": 42,
     "metadata": {},
     "output_type": "execute_result"
    }
   ],
   "source": [
    "def classifier2(testData,weights):\n",
    "    prob=logistic(sum(testData*weights))\n",
    "    if prob>0.5:\n",
    "        return 1.0\n",
    "    else:        \n",
    "        return 0.0\n",
    "\n",
    "classifier2(test,weights2)"
   ]
  },
  {
   "cell_type": "markdown",
   "metadata": {},
   "source": [
    "# 三.算法分析"
   ]
  },
  {
   "cell_type": "markdown",
   "metadata": {},
   "source": [
    "## 1.超平面分析"
   ]
  },
  {
   "cell_type": "code",
   "execution_count": 61,
   "metadata": {
    "collapsed": false
   },
   "outputs": [
    {
     "data": {
      "image/png": "[encoded data removed]",
      "text/plain": [
       "<matplotlib.figure.Figure at 0x10fb51890>"
      ]
     },
     "metadata": {},
     "output_type": "display_data"
    }
   ],
   "source": [
    "weightslist=[]\n",
    "for k in xrange(steps):\n",
    "    gradient=dataMat*mat(weights2)           # 梯度\n",
    "    output=logistic(gradient)                # 调用Logistic函数判断\n",
    "    errors=target-output                     # 计算误差\n",
    "    weights2=weights2+alpha*dataMat.T*errors # 修正线性系数\n",
    "    weightslist.append(weights2)\n",
    "    \n",
    "plt.figure()\n",
    "X=linspace(-5,5,100)\n",
    "len_weights=len(weightslist)\n",
    "for index in xrange(len_weights):\n",
    "    if index%20==0:\n",
    "        weight=weightslist[index]\n",
    "        Y=-(double(weight[0])+X*(double(weight[1])))/double(weight[2])\n",
    "        plt.plot(X,Y)\n",
    "        plt.annotate(\"hplane:\"+str(index),xy=(X[99],Y[99]))\n",
    "plt.show()"
   ]
  },
  {
   "cell_type": "markdown",
   "metadata": {},
   "source": [
    "## 2.斜率和截距分析"
   ]
  },
  {
   "cell_type": "markdown",
   "metadata": {},
   "source": [
    "#### 截距："
   ]
  },
  {
   "cell_type": "code",
   "execution_count": 67,
   "metadata": {
    "collapsed": false
   },
   "outputs": [
    {
     "data": {
      "image/png": "[encoded data removed]",
      "text/plain": [
       "<matplotlib.figure.Figure at 0x10f939050>"
      ]
     },
     "metadata": {},
     "output_type": "display_data"
    }
   ],
   "source": [
    "fig=plt.figure()\n",
    "axes1=plt.subplot(211)\n",
    "axes2=plt.subplot(212)\n",
    "weightmat=mat(zeros((steps,n)))\n",
    "i=0\n",
    "for weight in weightslist:\n",
    "    weightmat[i,:]=weight.T\n",
    "    i+=1\n",
    "X=linspace(0,steps,steps)\n",
    "axes1.plot(X[0:10],-weightmat[0:10,0]/weightmat[0:10,2],color='blue',linewidth=1,linestyle='-')\n",
    "axes2.plot(X[10:],-weightmat[10:,0]/weightmat[10:,2],color='blue',linewidth=1,linestyle='-')\n",
    "plt.show()"
   ]
  },
  {
   "cell_type": "markdown",
   "metadata": {},
   "source": [
    "#### 斜率："
   ]
  },
  {
   "cell_type": "code",
   "execution_count": 69,
   "metadata": {
    "collapsed": false
   },
   "outputs": [
    {
     "data": {
      "image/png": "[encoded data removed]",
      "text/plain": [
       "<matplotlib.figure.Figure at 0x1105e1910>"
      ]
     },
     "metadata": {},
     "output_type": "display_data"
    }
   ],
   "source": [
    "plt.figure()\n",
    "axes1=plt.subplot(211)\n",
    "axes2=plt.subplot(212)\n",
    "axes1.plot(X[0:10],-weightmat[0:10,1]/weightmat[0:10,2],color='blue',linewidth=1,linestyle='-')\n",
    "axes2.plot(X[10:],-weightmat[10:,1]/weightmat[10:,2],color='blue',linewidth=1,linestyle='-')\n",
    "plt.show()"
   ]
  },
  {
   "cell_type": "markdown",
   "metadata": {},
   "source": [
    "## 3.系数/权重收敛评估"
   ]
  },
  {
   "cell_type": "code",
   "execution_count": 75,
   "metadata": {
    "collapsed": false
   },
   "outputs": [
    {
     "data": {
      "image/png": "[encoded data removed]",
      "text/plain": [
       "<matplotlib.figure.Figure at 0x10f95c150>"
      ]
     },
     "metadata": {},
     "output_type": "display_data"
    }
   ],
   "source": [
    "plt.figure()\n",
    "axes1=plt.subplot(311)\n",
    "axes2=plt.subplot(312)\n",
    "axes3=plt.subplot(313)\n",
    "axes1.plot(X,weightmat[:,0],color='blue',linewidth=1,linestyle='-')\n",
    "axes1.set_ylabel('weight[0]')\n",
    "axes2.plot(X,weightmat[:,1],color='red',linewidth=1,linestyle='-')\n",
    "axes2.set_ylabel('weight[1]')\n",
    "axes3.plot(X,weightmat[:,2],color='green',linewidth=1,linestyle='-')\n",
    "axes3.set_ylabel('weight[2]')\n",
    "plt.show()"
   ]
  },
  {
   "cell_type": "markdown",
   "metadata": {},
   "source": [
    "## 4.算法总体评价"
   ]
  },
  {
   "cell_type": "markdown",
   "metadata": {},
   "source": [
    "从上述图像可以看出，超平面变化趋于稳定；斜率变化已到达平稳状态，但截距在第10~500次迭代过程变化仍剧烈，未达到平稳；各参数变化趋势不明显。应该进一步增加迭代次数，使截距参数最终达到平稳，此时的超平面决策边界才是最优的。"
   ]
  },
  {
   "cell_type": "code",
   "execution_count": null,
   "metadata": {
    "collapsed": true
   },
   "outputs": [],
   "source": []
  }
 ],
 "metadata": {
  "kernelspec": {
   "display_name": "Python 2",
   "language": "python",
   "name": "python2"
  },
  "language_info": {
   "codemirror_mode": {
    "name": "ipython",
    "version": 2
   },
   "file_extension": ".py",
   "mimetype": "text/x-python",
   "name": "python",
   "nbconvert_exporter": "python",
   "pygments_lexer": "ipython2",
   "version": "2.7.13"
  }
 },
 "nbformat": 4,
 "nbformat_minor": 2
}
