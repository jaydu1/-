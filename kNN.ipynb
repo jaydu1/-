{
 "cells": [
  {
   "cell_type": "markdown",
   "metadata": {},
   "source": [
    "# kNN算法——杜金鸿"
   ]
  },
  {
   "cell_type": "markdown",
   "metadata": {},
   "source": [
    "# 一.算法原理"
   ]
  },
  {
   "cell_type": "markdown",
   "metadata": {},
   "source": [
    "   k最近邻（k-Nearest Neighbor）算法，通过比较不同样本的各特征组成的向量之间的距离进行分类。先给定近邻数k并定义度量距离，将待分类样本与特征空间中的各个样本（已分类样本）分别计算距离，然后选取最相似的k个已分类样本。统计这k个已分类样本的类别，最大的即为kNN对该待分类样本的分类。\n",
    "   \n",
    "   例子："
   ]
  },
  {
   "cell_type": "code",
   "execution_count": 2,
   "metadata": {
    "collapsed": false
   },
   "outputs": [
    {
     "data": {
      "image/png": "[encoded data removed]",
      "text/plain": [
       "<matplotlib.figure.Figure at 0x10a9d1710>"
      ]
     },
     "metadata": {},
     "output_type": "display_data"
    }
   ],
   "source": [
    "import numpy as np\n",
    "import matplotlib.pyplot as plt\n",
    "\n",
    "# 导入训练集与测试集\n",
    "def createDataSet():\n",
    "    group=np.array([[1.0,1.1],[1.0,1.0],[0,0],[0,0.1]])\n",
    "    labels=['A','A','B','B']\n",
    "    return group,labels\n",
    "\n",
    "dataSet,labels=createDataSet()\n",
    "testdata=[0.2,0.2]\n",
    "\n",
    "fig=plt.figure()\n",
    "ax=fig.add_subplot(111)\n",
    "index=0\n",
    "for point in dataSet:\n",
    "    if labels[index]=='A':\n",
    "        ax.scatter(point[0],point[1],c='blue',\n",
    "                   marker='o',linewidths=0,s=300)\n",
    "        plt.annotate(\"(\"+str(point[0])+\",\"+str(point[1])+\")\"\n",
    "                     ,xy=(point[0],point[1]))\n",
    "    else:\n",
    "        ax.scatter(point[0],point[1],c='red',\n",
    "                   marker='^',linewidths=0,s=300)\n",
    "        plt.annotate(\"(\"+str(point[0])+\",\"+str(point[1])+\")\"\n",
    "                     ,xy=(point[0],point[1]))\n",
    "    index+=1\n",
    "ax.scatter(testdata[0],testdata[1],c='green',\n",
    "           marker='s',linewidths=0,s=300)\n",
    "plt.annotate(\"(\"+str(testdata[0])+\",\"+str(testdata[1])+\")\",\n",
    "             xy=(testdata[0],testdata[1]))\n",
    "plt.show()"
   ]
  },
  {
   "cell_type": "markdown",
   "metadata": {},
   "source": [
    "上述程序中，红色三角形与蓝色圆形是训练集样本且分别为一类，绿色正方形是测试集样本，从欧式距离来看，待分类样本更接近红色三角形，因此更可能判断为与红色三角形同类。这也正是kNN分类的原理。"
   ]
  },
  {
   "cell_type": "markdown",
   "metadata": {},
   "source": [
    "# 二.具体流程"
   ]
  },
  {
   "cell_type": "markdown",
   "metadata": {},
   "source": [
    "（1）确定k值。一般是奇数\n",
    "\n",
    "（2）确定距离度量公式。文本分类一般用夹角余弦选出距离最近的k各样本：$$\\cos\\theta=\\frac{A\\cdot B}{\\left|A\\right||B|}$$\n",
    "（3）统计这k各样本点中各类别数目。将数目最多的类别作为待分类样本的类别。"
   ]
  },
  {
   "cell_type": "markdown",
   "metadata": {},
   "source": [
    "# 三.代码实例"
   ]
  },
  {
   "cell_type": "markdown",
   "metadata": {},
   "source": [
    "（1）导入训练集：我们直接将之前的NBayes类向量化训练集作为训练集，并随机从中抽取一份作为测试集。这里直接导入NBayes类。"
   ]
  },
  {
   "cell_type": "code",
   "execution_count": null,
   "metadata": {
    "collapsed": true
   },
   "outputs": [],
   "source": [
    "import numpy as np\n",
    "import matplotlib.pyplot as plt\n",
    "import operator\n",
    "from Nbayes_lib import *\n",
    "\n",
    "k=3\n",
    "\n",
    "dataSet,listClasses=loadDataSet()"
   ]
  },
  {
   "cell_type": "markdown",
   "metadata": {},
   "source": [
    "（2）夹角余弦距离计算函数："
   ]
  },
  {
   "cell_type": "code",
   "execution_count": null,
   "metadata": {
    "collapsed": true
   },
   "outputs": [],
   "source": [
    "# 夹角余弦距离\n",
    "def cosdist(vector1,vector2):\n",
    "    return np.dot(vector1,vector2)/(\n",
    "        np.linalg.norm(vector1)*np.linalg.norm(vector2))"
   ]
  },
  {
   "cell_type": "markdown",
   "metadata": {},
   "source": [
    "（3）kNN分类器："
   ]
  },
  {
   "cell_type": "code",
   "execution_count": null,
   "metadata": {
    "collapsed": true
   },
   "outputs": [],
   "source": [
    "# kNN分类器\n",
    "def kNN(testdata,trainSet,listClasses,k):\n",
    "    dataSize=trainSet.shape[0]\n",
    "    distances=np.array(np.zeros(dataSize))\n",
    "    for index in xrange(dataSize):\n",
    "        distances[index]=cosdist(testdata,trainSet[index])\n",
    "    sorted_Dist_Indicies=np.argsort(-distances)\n",
    "    classCount={}\n",
    "    for i in range(k):\n",
    "        label=listClasses[sorted_Dist_Indicies[i]]\n",
    "        classCount[label]=classCount.get(label,0)+1\n",
    "    sorted_Class_Count=sorted(classCount.iteritems(),\n",
    "                              key=operator.itemgetter(1),reverse=True)\n",
    "    return sorted_Class_Count[0][0]"
   ]
  },
  {
   "cell_type": "markdown",
   "metadata": {},
   "source": [
    "（4）主程序："
   ]
  },
  {
   "cell_type": "code",
   "execution_count": null,
   "metadata": {
    "collapsed": true
   },
   "outputs": [],
   "source": [
    "nb=NBayes()\n",
    "nb.train_set(dataSet,listClasses)\n",
    "print kNN(nb.tf[3],nb.tf,listClasses,k)"
   ]
  }
 ],
 "metadata": {
  "kernelspec": {
   "display_name": "Python 2",
   "language": "python",
   "name": "python2"
  },
  "language_info": {
   "codemirror_mode": {
    "name": "ipython",
    "version": 2
   },
   "file_extension": ".py",
   "mimetype": "text/x-python",
   "name": "python",
   "nbconvert_exporter": "python",
   "pygments_lexer": "ipython2",
   "version": "2.7.13"
  }
 },
 "nbformat": 4,
 "nbformat_minor": 2
}
