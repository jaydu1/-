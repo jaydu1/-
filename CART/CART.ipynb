{
 "cells": [
  {
   "cell_type": "markdown",
   "metadata": {},
   "source": [
    "# CART算法"
   ]
  },
  {
   "cell_type": "markdown",
   "metadata": {},
   "source": [
    "# 1.算法原理"
   ]
  },
  {
   "cell_type": "markdown",
   "metadata": {},
   "source": [
    "分类回归树（Classification And Regression Tree，CART），顾名思义，它既能用来分类，也能用来回归；它既能处理离散型的数据，也能处理数值型的数据。它的重要基础包括：\n",
    "\n",
    "（1）二分(Binary Split)：在每次判断过程中，都是对观察变量进行二分，生成二叉树。\n",
    "\n",
    "（2）单变量分割(Split Based on One Variable)：每次最优划分都是针对单个变量，即单个特征。\n",
    "\n",
    "（3）剪枝策略：CART算法的关键点，包括预剪枝（Pre-Pruning）和后剪枝（Pre-Pruning）两种策略，实际应用中常混合使用，以避免过拟合。"
   ]
  },
  {
   "cell_type": "markdown",
   "metadata": {},
   "source": [
    "# 2.算法分类"
   ]
  },
  {
   "cell_type": "markdown",
   "metadata": {},
   "source": [
    "（1）分类决策树：处理离散型和数值型数据。若某特征有$n$个属性，那么其二分结果将有$2^{n-1}$种（不包括空集和全集），这将使树分支过于冗杂，因此它不适用于有多属性特征的分类。\n",
    "\n",
    "（2）回归树：处理连续型特征。结点数据类型为连续性。\n",
    "\n",
    "（3）模型树：处理连续型特征。结点数据类型为连续性，且非叶结点可解释为划分点、二维向量形式的叶结点可解释为回归方程系数。\n",
    "\n",
    "回归树和模型树实质上都是分类树。"
   ]
  },
  {
   "cell_type": "markdown",
   "metadata": {},
   "source": [
    "# 3.算法流程"
   ]
  },
  {
   "cell_type": "markdown",
   "metadata": {},
   "source": [
    "## （1）决策树主函数"
   ]
  },
  {
   "cell_type": "markdown",
   "metadata": {},
   "source": [
    "按照CART规则，递归调用，生长出决策树的各个分支节点，并根据终止条件结束算法。"
   ]
  },
  {
   "cell_type": "markdown",
   "metadata": {},
   "source": [
    "#### a.输入需要分类的数据集和类别标签。"
   ]
  },
  {
   "cell_type": "markdown",
   "metadata": {},
   "source": [
    "#### b.挑选最佳特征指标，判定最优划分，并创建特征的划分节点。"
   ]
  },
  {
   "cell_type": "markdown",
   "metadata": {},
   "source": [
    "##### ----Gini指数："
   ]
  },
  {
   "cell_type": "markdown",
   "metadata": {},
   "source": [
    "·  对离散型变量，假设有$k$个类，样本属于第k个类的概率为$P_k$, 则此概率分布$p$的基尼指数定义为：$$Gini(p)=\\sum\\limits_{n=1}^kp_n(1-p_n)=1-\\sum\\limits_{n=1}^np_n^2$$\n",
    "对划分为$C_1,\\cdots,C_k$类的离散数据集$D$，其基尼指数为：$$Gini(D)=1-\\sum\\limits_{n=1}^k\\frac{|C_k|^2}{|D|}$$\n",
    "如果样本集$D$根据某个特征是否取某个值$a$来划分为$D_1=\\{x\\in D|A(x)=a\\},D_2=D\\setminus D_1$，那么在特征$A$条件下$D$的基尼指数为：$$Gini_A(D)=\\frac{|D_1|}{|D|}Gini(D_1)+\\frac{|D_!|}{|D|}Gini(D_2)$$\n",
    "·  对连续型变量，需要将排序后的相邻值的中点作为阈值（分裂点），同样使用上面的公式计算每一个分区不纯度的加权和。\n",
    "\n",
    "$Gini(D)$与熵类似，$Gini_A(D)$与条件熵类似，都是衡量集合的不确定性。\n",
    "\n",
    "\n",
    "\n",
    "\n"
   ]
  },
  {
   "cell_type": "markdown",
   "metadata": {},
   "source": [
    "##### ----最小剩余方差："
   ]
  },
  {
   "cell_type": "markdown",
   "metadata": {},
   "source": [
    "\n",
    "\n",
    "在回归树中，数据集均为连续型。连续型数据的处理与离散型数据不同，离散型数据是根据每个特征的不同属性来划分的，二连续型特征则要计算出最优划分点。\n",
    "假设数据集为$\\{x_1,\\cdots, x_m\\}$。\n",
    "\n",
    "依次遍历所有特征列的所有属性（在连续性变量场景下，所有属性即当前特征的所有样本点），求特征列$A$的均值$E(A)$和二分数据集后的总方差$Var(A)=D(A)*m$,其中，$D(A)=p(A)(1-p(A))$为$A$的均方差（标准差）。比较即得最优分支特征和最优分支特征值（连续型特征则为划分点的值）。\n",
    "\n"
   ]
  },
  {
   "cell_type": "markdown",
   "metadata": {},
   "source": [
    "这里我们选择最小剩余方差，则划分节点需调用$\\bf{最小剩余方差函数}$。"
   ]
  },
  {
   "cell_type": "markdown",
   "metadata": {},
   "source": [
    "#### c.根据最优分支特征将数据集划分为两部分"
   ]
  },
  {
   "cell_type": "markdown",
   "metadata": {},
   "source": [
    "#### d.根据二份数据的结果构建新左、右节点，作为树生长出的两个分支"
   ]
  },
  {
   "cell_type": "markdown",
   "metadata": {},
   "source": [
    "#### e.检验是否满足递归终止条件"
   ]
  },
  {
   "cell_type": "markdown",
   "metadata": {},
   "source": [
    "#### f.将划分的两个新节点包含的数据集和类别标签作为输入，递归执行上述步骤"
   ]
  },
  {
   "cell_type": "markdown",
   "metadata": {},
   "source": [
    "## （2）使用最小剩余方差函数计算数据集各列的最优划分方差、划分列、划分值"
   ]
  },
  {
   "cell_type": "markdown",
   "metadata": {},
   "source": [
    "## （3）二分数据集"
   ]
  },
  {
   "cell_type": "markdown",
   "metadata": {},
   "source": [
    "## （4）剪枝策略"
   ]
  },
  {
   "cell_type": "markdown",
   "metadata": {},
   "source": [
    "#### a.预剪枝"
   ]
  },
  {
   "cell_type": "markdown",
   "metadata": {},
   "source": [
    "通过预先设定划分阈值，当节点的划分子集某个标准低于阈值时，子集划分终止。\n",
    "\n",
    "本文设定两个阈值：最小方差下降值、最小切分样本数。当方差减少量低于最小方差下降值时，停止该节点的划分；当该节点划分出的某一子集中样本数少于最小切分样本数时，停止该节点的划分。"
   ]
  },
  {
   "cell_type": "markdown",
   "metadata": {},
   "source": [
    "#### b.后剪枝"
   ]
  },
  {
   "cell_type": "markdown",
   "metadata": {},
   "source": [
    "后剪枝，也称为悲观剪枝。在完全生成的决策树中根据一定规则，剪掉树中不具备一般代表性的子树，使用叶子节点代替，进而形成一棵规模较小的新树。\n",
    "\n",
    "后剪枝递归估算每个内部节点所覆盖样本节点的误判率，如果某个节点的误判率低于这个值则将其变为叶子节点，该叶子节点的类别标签由原内部节点的最优叶子节点所决定。\n",
    "\n",
    "若一个叶子节点覆盖了$N$个样本，其中有$E$个错误，则其错误率为$\\frac{E+\\alpha}{N}$，其中$\\alpha=0.5$为惩罚因子。\n",
    "\n",
    "若一棵子树错误分类一个样本值为1，正确分类一个样本值为0，其误判率$e=\\frac{\\sum\\limits_{i=1}^N E_i+m*\\alpha}{\\sum\\limits_{i=1}^NN_i}$，那么子树的误判次数$m_0$服从伯努利分布，可以估算其均值核标准差：$$E(m_0)=N\\times e$$\n",
    "\n",
    "$$D(m_0)=\\sqrt{N\\times e\\times (1-e)} $$\n",
    "把子树替换为叶节点之后，该叶子节点的误判次数$m_1$也服从伯努利分布，其误判率$e=\\frac{E+\\alpha}{N}$，因此均值为$E(m_1)=N\\times e$。\n",
    "\n",
    "本文设定当回归树子树满足以下条件剪枝时剪枝：$$E(m_0)-D(m_0)>E(m_1)$$，本文未对模型树采用后剪枝操作。"
   ]
  },
  {
   "cell_type": "markdown",
   "metadata": {},
   "source": [
    "# 4.程序实例"
   ]
  },
  {
   "cell_type": "markdown",
   "metadata": {},
   "source": [
    "（1）部分子函数"
   ]
  },
  {
   "cell_type": "code",
   "execution_count": 1,
   "metadata": {
    "collapsed": true
   },
   "outputs": [],
   "source": [
    "import numpy as np\n",
    "import cPickle as pickle\n",
    "\n",
    "#------------- 回归树调用函数 ------------- #\n",
    "# 回归树叶子节点\n",
    "def regLeaf(DataSet):\n",
    "    return np.mean(DataSet[:,-1]) # 返回被划分数据集最后一列的均值\n",
    "\n",
    "# 回归方差\n",
    "# 返回数据集最后1列的二阶中心距乘以划分数据集的行数\n",
    "def regErr(DataSet):\n",
    "    return np.var(DataSet[:,-1]) * np.shape(DataSet)[0]\n",
    "\n",
    "# 回归树评估: 返回树节点的浮点值     \n",
    "def regTreeEval(model, inDat):\n",
    "    return float(model)\n",
    "\n",
    "\n",
    "#------------- 模型树调用函数 ------------- #  \n",
    "# 将模型数据格式化为线性函数的自变量X,因变量Y\n",
    "def linearSolve(dataSet):   #helper function used in two places\n",
    "    m,n = np.shape(dataSet)\n",
    "    X = np.mat(np.ones((m,n))); Y = np.mat(np.ones((m,1))) #初始化\n",
    "    X[:,1:n] = dataSet[:,0:n-1]; Y = dataSet[:,-1] # 为 X,Y 赋值\n",
    "    xTx = X.T*X\n",
    "    if np.linalg.det(xTx) == 0.0:\n",
    "        raise NameError(\n",
    "        'This np.matrix is np.singular, cannot do inverse,\\n\\\n",
    "        try increanp.sing the second value of ops')\n",
    "    ws = xTx.I * (X.T * Y) # 产生截距和斜率矩阵\n",
    "    return ws,X,Y # 返回X,Y和线性回归的系数\n",
    "    \n",
    "# 产生叶子节点的模型，并返回系数\n",
    "def modelLeaf(dataSet):\n",
    "    ws,X,Y = linearSolve(dataSet)\n",
    "    return ws\n",
    "\n",
    "# 返回线性模型的预测值与实际值的方差\n",
    "def modelErr(dataSet):\n",
    "    ws,X,Y = linearSolve(dataSet)\n",
    "    yHat = X * ws\n",
    "    return sum(np.power(Y - yHat,2))\n",
    "\n",
    "# 模型树评估:Y = X*model\n",
    "# model为二维向量: 斜率,截距\n",
    "def modelTreeEval(model, inDat):\n",
    "    n = np.shape(inDat)[1] # inDat的列数\n",
    "    X = np.mat(np.ones((1,n+1))) # 全1矩阵,1行,n+1列\n",
    "    X[:,1:n+1] = inDat \n",
    "    return float(X*model) # Y = X*model"
   ]
  },
  {
   "cell_type": "markdown",
   "metadata": {},
   "source": [
    "（2）CART类"
   ]
  },
  {
   "cell_type": "code",
   "execution_count": 2,
   "metadata": {
    "collapsed": true
   },
   "outputs": [],
   "source": [
    "class CART(object):\n",
    "    def __init__(self):\n",
    "        self.tree={}\n",
    "        self.DataSet=[]\n",
    "        \n",
    "    def loadDataSet(self,path):\n",
    "        DataSet = []                \n",
    "        fp=open(path,\"rb\")\n",
    "        for line in fp.readlines():\n",
    "            curLine = line.strip().split('\\t')\n",
    "            fltLine = map(float,curLine)    # 转换为浮点数\n",
    "            DataSet.append(fltLine)\n",
    "        fp.close()\n",
    "            \n",
    "    def train(self,method=\"regression\",\n",
    "              leafType=regLeaf,errType=regErr,ops=(1,4)):\n",
    "        if method==\"model\":\n",
    "            leafType=modelLeaf\n",
    "            errType=modelErr\n",
    "        self.tree=self.buildTree(self.DataSet,leafType, errType, ops)\n",
    "\n",
    "    \n",
    "    def buildTree(self,dataSet,leafType, errType, ops=(1,4)):\n",
    "        # 选择最优划分: feat: 划分列, val: 划分值\n",
    "        # 传递 叶子节点算法函数指针,回归方差算法函数指针,允许的方差下降值,最小切分样本数\n",
    "        feat,val = self.getBestFeature(dataSet, leafType, errType, ops)\n",
    "        # 停止条件:如果feat为空,算法停止, 返回叶子节点值\n",
    "        if feat == None:  \treturn val \n",
    "        retTree = {}\n",
    "        retTree['spInd'] = feat # 把划分列特征放入创建的树中   \n",
    "        retTree['spVal'] = val # 把划分值放入创建的树中 \n",
    "        # 因为是面向过程的编程，判断树的节点级输出有些麻烦,增加调试信息：\n",
    "        # 输出节点一级的信息,连续输出多少个就有多少层\n",
    "        # 本算法为先左后右的递归，所以首先输出的是left node，当node输出中断后，\n",
    "        # 才为另一侧的node\n",
    "        # print \"node:\",retTree  \n",
    "        # 以划分列和元素为分割点二分数据集:\n",
    "        # dataSet被分为左右两部分：lSet:左子树集合, rSet:右子树集合\n",
    "        lSet, rSet = self.binSplit(dataSet, feat, val)\n",
    "        # 递归生成子树\n",
    "        retTree['left'] = self.buildTree(lSet, leafType, errType,ops)\n",
    "        retTree['right'] = self.buildTree(rSet, leafType, errType,ops)\n",
    "    \n",
    "        return retTree  \n",
    " \n",
    "    # 选取最优特征节点\n",
    "    def getBestFeature(self,DataSet,leafType, errType,ops=(1,4)):\n",
    "        tolS = ops[0]; # 允许的方差下降值\n",
    "        tolN = ops[1] # 最小切分样本数    \n",
    "        #---- 算法终止条件1开始 ----#\n",
    "        splitdataSet = set(DataSet[:,-1].T.tolist()[0])\n",
    "        if len(splitdataSet)==1:   \n",
    "            return None, leafType(DataSet)   \n",
    "            # 返回值: leafType(DataSet):树的叶子节点    \n",
    "        #---- 算法终止条件1结束 ----#\n",
    "        \n",
    "        #---- 计算dataSet各列的最优划分方差,划分列,划分值 ----#\n",
    "        m,n = np.shape(DataSet) # 返回数据集的行数和列数\n",
    "        S = errType(DataSet)    # 计算整个数据集的回归方差,S\n",
    "        # 初始化最优参数: 最大方差、最优划分列、最优划分值\n",
    "        bestS = np.inf; bestIndex = 0; bestValue = 0\n",
    "        # 按列遍历数据集前n-1列\n",
    "        # featIndex: 第0~n-1列\n",
    "        for featIndex in xrange(n-1):\n",
    "            # 遍历每列去重后的各个类型\n",
    "            # splitVal:各列的每个类型\n",
    "            for splitVal in set(DataSet[:,featIndex].T.tolist()[0]):\n",
    "                # 二元划分数据集:按划分列和划分值分隔dataSet\n",
    "                mat0, mat1 = self.binSplit(DataSet, featIndex, splitVal)\n",
    "                # mat0的行数 小于 tolN 或 mat1的行数 小于 tolN\n",
    "                if (np.shape(mat0)[0] < tolN) or (np.shape(mat1)[0] < tolN): \n",
    "                    continue # 终止后面的程序,进行下一次循环\n",
    "                # mat0的回归方差+mat1的回归方差\t\n",
    "                newS = errType(mat0) + errType(mat1)\n",
    "                # 如果newS小于bestS\n",
    "                if newS < bestS: \n",
    "                    bestIndex = featIndex # 最优索引 <- 特征索引\n",
    "                    bestValue = splitVal # 最优值 <- 分割值\n",
    "                    bestS = newS # bestS <- newS            \n",
    "        #---- DataSet的最优划分参数：方差、划分列、划分值计算结束 ----#\n",
    "        \n",
    "        #---- 算法终止条件2开始:返回的是值节点类型 ----#  \n",
    "        # 如果(S - bestS) 小于 1\n",
    "        if (S - bestS) < tolS: \n",
    "            # print \"stop 2\"\n",
    "            # 返回值: feat==None,leafType(dataSet):数据集标签集的均值   \n",
    "            return None, leafType(DataSet) \n",
    "        #---- 算法终止条件2结束 ----#\n",
    "        \n",
    "        #---- 算法终止条件3开始 ----#        \n",
    "        # 二元划分数据集:按划分列和划分值分隔dataSet\n",
    "        mat0, mat1 = self.binSplit(DataSet, bestIndex, bestValue)\n",
    "        # mat0的行数小于 tolN 或 mat1的行数小于tolN \n",
    "        if (np.shape(mat0)[0] < tolN) or (np.shape(mat1)[0] < tolN):       \n",
    "        \t# print \"stop 3\"\n",
    "        \treturn None, leafType(DataSet) \n",
    "        #---- 算法终止条件3结束 ----#  \n",
    "        # 算法终止的前3个条件的划分列为None,说明为叶子节点,本枝分类树划分结束 \n",
    "        \n",
    "        #---- 算法终止条件4开始:返回的是子树节点类型 ----#\n",
    "        # print \"stop 4\"  \n",
    "        # 返回最优特征的划分列和划分值,但回归树还需递归划分   \n",
    "        return bestIndex,bestValue \n",
    "        #---- 算法终止条件4结束 ----#   \n",
    "   \n",
    "        \n",
    "    # 保存，读取决策树\n",
    "    def saveTree(self,inputTree,filename):\n",
    "        f=open(filename,\"w\")\n",
    "        pickle.dump(inputTree,f)\n",
    "        f.close()\n",
    "        \n",
    "    def getTree(self,filename):\n",
    "        f=open(filename)\n",
    "        return pickle.load(f)  \n",
    "    \n",
    "    # 二分数据集\n",
    "    def binSplit(self,dataSet,feature,value):\n",
    "        \n",
    "        mat0=dataSet[np.nonzero(dataSet[:,feature]>value)[0],:]\n",
    "        \n",
    "        mat1=dataSet[np.nonzero(dataSet[:,feature]<=value)[0],:]\n",
    "        return mat0,mat1\n",
    "\n",
    "    # 判断是否为树,验证输入数据是否为字典\n",
    "    def isTree(self,obj):\n",
    "        return (type(obj).__name__=='dict')\n",
    "    \n",
    "    # 计算树叶子节点的均值\n",
    "    def getmean(self,tree):\n",
    "        # 左、右子树递归至叶子节点处\t\t\n",
    "        if self.isTree(tree['right']): \n",
    "            tree['right'] = self.get.mean(tree['right'])\n",
    "        if self.isTree(tree['left']): \n",
    "            tree['left'] = self.get.mean(tree['left'])\n",
    "        # 返回叶子节点的均值    \t\n",
    "        return (tree['left']+tree['right'])/2.0\n",
    "    \n",
    "    # 树的后剪枝\n",
    "    # testData: 测试集    \n",
    "    def prune(self,testData):\n",
    "        self.tree=self.Prune(self.tree,testData)\n",
    "        \n",
    "    def Prune(self,tree, testData):       \n",
    "        if np.shape(testData)[0] == 0: \n",
    "            return self.getmean(tree) \n",
    "            # 如果没有测试数据输入,运行getmean,程序退出\n",
    "        # 如果左、右子节点是树    \n",
    "        if (self.isTree(tree['right']) or self.isTree(tree['left'])):\n",
    "            # 对测试集按划分列和树的划分值进行二元分割          \n",
    "            lSet, rSet = self.binSplit(testData, \n",
    "                                       tree['spInd'], tree['spVal'])\n",
    "        if self.isTree(tree['left']): \n",
    "            tree['left'] = self.Prune(tree['left'], lSet) \n",
    "            # 如果左节点是树，对测试集递归剪枝\n",
    "        if self.isTree(tree['right']): \n",
    "            tree['right'] =  self.Prune(tree['right'], rSet) \n",
    "            # 如果右节点是树，对测试集递归剪枝 \n",
    "        # 如果左右节点都不是树\n",
    "        if not self.isTree(tree['left']\n",
    "                          ) and not self.isTree(tree['right']):\n",
    "            lSet, rSet = self.binSplit(\n",
    "                testData, tree['spInd'], tree['spVal']) \n",
    "                # 对测试集按划分列和划分值进行二元分割\n",
    "            # 计算左右子树的方差\n",
    "            errorNoMerge = sum(np.power(lSet[:,-1] - tree['left'],2)) \n",
    "                + sum(np.power(rSet[:,-1] - tree['right'],2))\n",
    "            # 执行合并：树节点均值\n",
    "            treemean = (tree['left']+tree['right'])/2.0\n",
    "            # 计算合并的方差\n",
    "            errorMerge = sum(np.power(testData[:,-1] - treemean,2))\n",
    "            # 如果合并后的方差小于不合并方差\n",
    "            if errorMerge < errorNoMerge: \n",
    "                # print \"merging\"\n",
    "                return treemean  # 返回节点均值,执行合并\n",
    "            else: return tree # 否则直接返回,不进行合并\n",
    "        else: return tree\n",
    "        \n",
    "    # 树预测\n",
    "    # tree:回归树，模型树\n",
    "    # inData:第i行的测试集向量 \n",
    "    # modelEval:与树一致的评估函数\n",
    "    def treeForeCast(self,tree, inData,modelEval=regTreeEval):\n",
    "        # 如果不是树直接返回评估结果\n",
    "        if not self.isTree(tree): return modelEval(tree, inData)\n",
    "        # 如果inData[划分列]的取值大于tree[划分值]\n",
    "        if inData[tree['spInd']] > tree['spVal']:\n",
    "            # 如果tree的左子树是一颗树,而不是叶子节点 递归调用本函数\n",
    "            if self.isTree(tree['left']): \n",
    "                return self.treeForeCast(tree['left'], inData,modelEval)\n",
    "            # 否则返回叶子节点对应评估函数的评估值\n",
    "            else: return modelEval(tree['left'], inData)\n",
    "        else: # 如果inData[划分列]的取值小于等于tree[划分值]\n",
    "            # 如果tree的右子树是一颗树,而不是叶子节点,递归调用本函数        \n",
    "            if self.isTree(tree['right']): \n",
    "                return self.treeForeCast(tree['right'], inData,modelEval )\n",
    "            # 否则返回叶子节点对应评估函数的评估值        \n",
    "            else: return modelEval(tree['right'], inData)\n",
    "        exit(-1)\n",
    "        \n",
    "    # 创建预测\n",
    "    # tree: 回归树，模型树 \n",
    "    # testData: 测试集 \n",
    "    # modelEval: 评估函数 regTreeEval,modelTreeEval     \n",
    "    def createForeCast(self,tree, testData,modelEval=regTreeEval):\n",
    "        m=len(testData)\n",
    "        yHat = np.mat(np.zeros((m,1))) # 初始化为全0向量,行数为m\n",
    "        for i in range(m):\n",
    "            yHat[i,0] = self.treeForeCast(tree, np.mat(testData[i]),modelEval)\n",
    "        return yHat"
   ]
  },
  {
   "cell_type": "markdown",
   "metadata": {},
   "source": [
    "（3）调用、测试及评价"
   ]
  },
  {
   "cell_type": "code",
   "execution_count": 3,
   "metadata": {
    "collapsed": false
   },
   "outputs": [
    {
     "data": {
      "image/png": "[encoded data removed]",
      "text/plain": [
       "<matplotlib.figure.Figure at 0x10f089790>"
      ]
     },
     "metadata": {},
     "output_type": "display_data"
    },
    {
     "name": "stdout",
     "output_type": "stream",
     "text": [
      "correlation coefficient of Regression-Tree\n",
      "[[ 1.          0.87470643]\n",
      " [ 0.87470643  1.        ]]\n"
     ]
    },
    {
     "data": {
      "image/png": "[encoded data removed]",
      "text/plain": [
       "<matplotlib.figure.Figure at 0x1146cc3d0>"
      ]
     },
     "metadata": {},
     "output_type": "display_data"
    },
    {
     "name": "stdout",
     "output_type": "stream",
     "text": [
      "correlation coefficient of Model-Tree\n",
      "[[ 1.          0.87985832]\n",
      " [ 0.87985832  1.        ]]\n"
     ]
    },
    {
     "data": {
      "image/png": "[encoded data removed]",
      "text/plain": [
       "<matplotlib.figure.Figure at 0x10e325150>"
      ]
     },
     "metadata": {},
     "output_type": "display_data"
    },
    {
     "name": "stdout",
     "output_type": "stream",
     "text": [
      "correlation coefficient of Regression-Tree\n",
      "[[ 1.          0.85571759]\n",
      " [ 0.85571759  1.        ]]\n"
     ]
    }
   ],
   "source": [
    "t1=CART()\n",
    "t2=CART()\n",
    "x=np.linspace(-5,5,200)\n",
    "siny=np.sin(x)\n",
    "\n",
    "y=siny+np.random.rand(1,len(siny))*1.5\n",
    "\n",
    "x=x.tolist()\n",
    "y=y.tolist()[0]\n",
    "a=[x,y]\n",
    "a=np.mat(a).T\n",
    "t1.DataSet=a\n",
    "t2.DataSet=a\n",
    "\n",
    "t1.train(\"regression\")\n",
    "X_test=np.arange(-5.0,5.0,0.05)[:,np.newaxis]\n",
    "yp_regressionTree= t1.createForeCast(t1.tree,X_test)\n",
    "\n",
    "t2.train(\"model\")\n",
    "X_test=np.arange(-5.0,5.0,0.05)[:,np.newaxis]\n",
    "yp_modelTree= t2.createForeCast(t2.tree,X_test,modelTreeEval)\n",
    "\n",
    "\n",
    "# 定性比较、定量比较\n",
    "import matplotlib.pyplot as plt\n",
    "\n",
    "def plotfigure(X,X_test,y,yp,kind):\n",
    "    plt.figure()\n",
    "    plt.scatter(X,y,c=\"k\",label=\"data\")\n",
    "    plt.plot(X_test,yp,c=\"r\",label=\"predicted data\",linewidth=2)\n",
    "    plt.xlabel(\"x\")\n",
    "    plt.ylabel(\"y\")\n",
    "    plt.title(kind)\n",
    "    plt.legend()\n",
    "    plt.show()\n",
    "\n",
    "plotfigure(x,X_test,y,yp_regressionTree,\"Regression-Tree\")  \n",
    "print \"correlation coefficient of Regression-Tree\\n\"\n",
    "print np.corrcoef(yp_regressionTree,y,rowvar=0)\n",
    "\n",
    "plotfigure(x,X_test,y,yp_modelTree,\"Model-Tree\")  \n",
    "print \"correlation coefficient of Model-Tree\\n\"\n",
    "print np.corrcoef(yp_modelTree,y,rowvar=0)\n",
    "\n",
    "x_prune=np.arange(-5.0,5.0,0.04)[:,np.newaxis]\n",
    "t1.prune(x_prune)\n",
    "yp_regressionTree= t1.createForeCast(t1.tree,X_test)\n",
    "plotfigure(x,X_test,y,yp_regressionTree,\"Regression-Tree\")  \n",
    "print \"correlation coefficient of Regression-Tree\\n\",np.corrcoef(yp_regressionTree,y,rowvar=0)\n"
   ]
  }
 ],
 "metadata": {
  "kernelspec": {
   "display_name": "Python 2",
   "language": "python",
   "name": "python2"
  },
  "language_info": {
   "codemirror_mode": {
    "name": "ipython",
    "version": 2
   },
   "file_extension": ".py",
   "mimetype": "text/x-python",
   "name": "python",
   "nbconvert_exporter": "python",
   "pygments_lexer": "ipython2",
   "version": "2.7.13"
  }
 },
 "nbformat": 4,
 "nbformat_minor": 2
}
